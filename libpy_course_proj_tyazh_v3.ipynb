{
 "cells": [
  {
   "cell_type": "code",
   "execution_count": null,
   "id": "50c186ba",
   "metadata": {},
   "outputs": [],
   "source": [
    "import numpy as np\n",
    "import pandas as pd\n",
    "from matplotlib import pyplot as plt\n",
    "import seaborn as sns\n",
    "import pickle\n",
    "\n",
    "from scipy.stats import mode\n",
    "\n",
    "from IPython.display import Image\n",
    "\n",
    "%matplotlib inline\n",
    "\n",
    "import warnings\n",
    "warnings.filterwarnings('ignore')\n",
    "\n",
    "from sklearn.model_selection import train_test_split, KFold\n",
    "\n",
    "from sklearn.ensemble import GradientBoostingRegressor, RandomForestRegressor, GradientBoostingClassifier\n",
    "\n",
    "from sklearn.neighbors import KNeighborsClassifier\n",
    "\n",
    "from sklearn.model_selection import GridSearchCV\n",
    "\n",
    "from sklearn.metrics import mean_squared_error as mse, r2_score as r2, accuracy_score\n",
    "\n",
    "from sklearn.svm import SVC\n",
    "\n",
    "from sklearn.preprocessing import MinMaxScaler, RobustScaler\n",
    "\n",
    "from sklearn.decomposition import PCA\n",
    "\n",
    "from sklearn.manifold import TSNE\n",
    "\n",
    "from sklearn.preprocessing import StandardScaler, RobustScaler\n",
    "\n",
    "from sklearn.cluster import KMeans, DBSCAN"
   ]
  },
  {
   "cell_type": "code",
   "execution_count": null,
   "id": "1bdc50d1",
   "metadata": {},
   "outputs": [],
   "source": [
    "def evaluate_predict(true_values, pred_values, save=False):\n",
    "    \n",
    "    print(f'all sample R2: {r2(true_values, pred_values):.3f}')\n",
    "    \n",
    "    plt.figure(figsize=(8, 8))\n",
    "    \n",
    "    sns.scatterplot(x=pred_values, y=true_values)\n",
    "    plt.plot(linestyle='--', color='black') \n",
    "    \n",
    "    plt.xlabel('Predicted values')\n",
    "    plt.ylabel('True values')\n",
    "    plt.title('True vs Predicted values')\n",
    "\n",
    "    plt.show()"
   ]
  },
  {
   "cell_type": "code",
   "execution_count": null,
   "id": "97428db9",
   "metadata": {},
   "outputs": [],
   "source": [
    "def preprocess_data(data):\n",
    "    pp_data = data.drop(data[(data['DistrictId'] == 0) | \n",
    "                             (data['Rooms'] == 0) | \n",
    "                             (data['Rooms'] > 5) |  \n",
    "                             (data['Square'] > 300) | \n",
    "                             (data['Square'] < 10) | \n",
    "                             (data['LifeSquare'] > data['Square']) |\n",
    "                             (data['LifeSquare'] > 100) |\n",
    "                             (data['LifeSquare'] < 5) |\n",
    "                             (data['KitchenSquare'] < 3) |\n",
    "                             (data['KitchenSquare'] / data['Square'] > 0.5) |\n",
    "                             (data['HouseFloor'] > 50) |\n",
    "                             (data['HouseFloor'] == 0) |\n",
    "                             (data['HouseFloor'] < data['Floor']) |\n",
    "                             (data['HouseYear'] > 2021) |\n",
    "                             (data['HouseYear'] == 1977) |\n",
    "                             (data['Social_3'] > 140)\n",
    "                            ].index)\n",
    "\n",
    "    pp_data = pp_data.dropna()\n",
    "\n",
    "    return pp_data"
   ]
  },
  {
   "cell_type": "code",
   "execution_count": null,
   "id": "81a55e46",
   "metadata": {},
   "outputs": [],
   "source": [
    "def gs_gbr(data, column, test_param):\n",
    "    \n",
    "    column = str(column)\n",
    "    x = data.drop(columns=column)\n",
    "    y = data[column]\n",
    "\n",
    "    x_train, x_val, y_train, y_val = train_test_split(x, y,\n",
    "                                                      test_size=0.33, \n",
    "                                                      shuffle=True, \n",
    "                                                      random_state=42)\n",
    "\n",
    "    model = GridSearchCV(estimator=GradientBoostingRegressor(),\n",
    "                              param_grid=test_param,\n",
    "                              scoring='r2',\n",
    "                              cv=5)\n",
    "\n",
    "    model.fit(x_train, y_train)\n",
    "\n",
    "    param = model.best_params_\n",
    "    print(param)\n",
    "    \n",
    "    print(f'GridSearchCV train sample R2: {model.best_score_:.3f}')\n",
    "    \n",
    "    model = GradientBoostingRegressor(**param, criterion='mse')\n",
    "\n",
    "    model.fit(x_train, y_train)\n",
    "\n",
    "    y_train_pred = model.predict(x_train)\n",
    "    \n",
    "    print(f'train sample R2: {r2(y_train, y_train_pred):.3f}')\n",
    "    \n",
    "    y_valid_pred = model.predict(x_val)\n",
    "\n",
    "    print(f'valid sample R2: {r2(y_val, y_valid_pred):.3f}')\n",
    "    \n",
    "    model.fit(x, y)\n",
    "\n",
    "    y_train_pred = model.predict(x)\n",
    "\n",
    "    evaluate_predict(y, y_train_pred)\n",
    "    \n",
    "    return model"
   ]
  },
  {
   "cell_type": "code",
   "execution_count": null,
   "id": "61273387",
   "metadata": {},
   "outputs": [],
   "source": [
    "def gs_gbc(data, column, test_param):\n",
    "    \n",
    "    column = str(column)\n",
    "    x = data.drop(columns=column)\n",
    "    y = data[column]\n",
    "\n",
    "    x_train, x_val, y_train, y_val = train_test_split(x, y,\n",
    "                                                      test_size=0.33, \n",
    "                                                      shuffle=True, \n",
    "                                                      random_state=42)\n",
    "\n",
    "    model = GridSearchCV(estimator=GradientBoostingClassifier(),\n",
    "                              param_grid=test_param,\n",
    "                              scoring='accuracy',\n",
    "                              cv=5)\n",
    "\n",
    "    model.fit(x_train, y_train)\n",
    "\n",
    "    param = model.best_params_\n",
    "    print(param)\n",
    "    \n",
    "    print(f'GridSearchCV train sample accuracy: {model.best_score_:.3f}')\n",
    "    \n",
    "    model = GradientBoostingClassifier(**param, criterion='mse')\n",
    "\n",
    "    model.fit(x_train, y_train)\n",
    "\n",
    "    y_train_pred = model.predict(x_train)\n",
    "    \n",
    "    print(f'train sample accuracy: {accuracy_score(y_train, y_train_pred):.3f}')\n",
    "    \n",
    "    y_valid_pred = model.predict(x_val)\n",
    "\n",
    "    print(f'valid sample accuracy: {accuracy_score(y_val, y_valid_pred):.3f}')\n",
    "    \n",
    "    model.fit(x, y)\n",
    "\n",
    "    y_train_pred = model.predict(x)\n",
    "\n",
    "    evaluate_predict(y, y_train_pred)\n",
    "    \n",
    "    return model"
   ]
  },
  {
   "cell_type": "code",
   "execution_count": null,
   "id": "6f63f3bb",
   "metadata": {},
   "outputs": [],
   "source": [
    "def svc(data, column):\n",
    "    \n",
    "    column = str(column)\n",
    "    x = data.drop(columns=column)\n",
    "    y = data[column]\n",
    "\n",
    "    x_train, x_val, y_train, y_val = train_test_split(x, y,\n",
    "                                                      test_size=0.33, \n",
    "                                                      shuffle=True, \n",
    "                                                      random_state=42)\n",
    "    scaler = MinMaxScaler()\n",
    "\n",
    "    x_train = pd.DataFrame(scaler.fit_transform(x_train), columns=x_train.columns)\n",
    "\n",
    "    x_val = pd.DataFrame(scaler.transform(x_val), columns=x_val.columns)\n",
    "        \n",
    "    c_values = np.logspace(-2, 5, 36)\n",
    "    accuracy_on_valid = []\n",
    "    accuracy_on_train = []\n",
    "\n",
    "    for i, value in enumerate(c_values):\n",
    "        model= SVC(C=value, gamma=\"auto\")\n",
    "        \n",
    "        model.fit(x_train, y_train)\n",
    "\n",
    "        y_valid_pred = model.predict(x_val)\n",
    "        y_pred_train = model.predict(x_train)\n",
    "        \n",
    "        if i % 5 == 0:\n",
    "            print('C = {}'.format(value))\n",
    "            \n",
    "            print(f'valid sample accuracy: {accuracy_score(y_val, y_valid_pred):.3f}')\n",
    "\n",
    "            print(f'train sample accuracy: {accuracy_score(y_train, y_pred_train):.3f}')\n",
    "\n",
    "    return model"
   ]
  },
  {
   "cell_type": "code",
   "execution_count": null,
   "id": "f0bf4dec",
   "metadata": {},
   "outputs": [],
   "source": [
    "def reduce_dims(df, dims, method='pca', perplexity=30):\n",
    "    \n",
    "    assert method in ['pca', 'tsne'], 'Неверно указан метод'\n",
    "    \n",
    "    if method=='pca':\n",
    "        dim_reducer = PCA(n_components=dims, random_state=42)\n",
    "        components = dim_reducer.fit_transform(df)\n",
    "    elif method == 'tsne':\n",
    "        dim_reducer = TSNE(n_components=dims, learning_rate=250, random_state=42, perplexity=perplexity)\n",
    "        components = dim_reducer.fit_transform(df)\n",
    "    else:\n",
    "        print('Error')\n",
    "        \n",
    "    colnames = ['component_' + str(i) for i in range(1, dims+1)]\n",
    "    return dim_reducer, pd.DataFrame(data = components, columns = colnames) "
   ]
  },
  {
   "cell_type": "code",
   "execution_count": null,
   "id": "8c999699",
   "metadata": {},
   "outputs": [],
   "source": [
    "def display_components_in_2D_space(components_df, labels=None):\n",
    "    components_with_labels_df = pd.concat([components_df, pd.DataFrame(labels)], axis=1)\n",
    "\n",
    "    figsize = (10, 7)\n",
    "    if labels is not None:\n",
    "        components_with_labels_df.plot(kind='scatter', x='component_1', y='component_2', \n",
    "                                         c=components_with_labels_df.iloc[:, -1], cmap=plt.get_cmap('jet'),\n",
    "                                         alpha=0.5, figsize=figsize)\n",
    "    else:\n",
    "        components_with_labels_df.plot(kind='scatter', x='component_1', y='component_2', alpha=0.5, figsize=figsize)\n",
    "\n",
    "    plt.xlabel('component_1')\n",
    "    plt.ylabel('component_2')\n",
    "    plt.title('2D mapping of objects')    \n",
    "    plt.show()"
   ]
  },
  {
   "cell_type": "code",
   "execution_count": null,
   "id": "7ee6a2c3",
   "metadata": {},
   "outputs": [],
   "source": [
    "def corr(data):\n",
    "    corr = data.corr()\n",
    "    ax = sns.heatmap(\n",
    "        corr, \n",
    "        vmin=-1, vmax=1, center=0,\n",
    "        cmap=sns.diverging_palette(20, 220, n=200),\n",
    "        square=True)\n",
    "    \n",
    "    ax.set_xticklabels(\n",
    "        ax.get_xticklabels(),\n",
    "        horizontalalignment='right');"
   ]
  },
  {
   "cell_type": "code",
   "execution_count": null,
   "id": "020c3021",
   "metadata": {},
   "outputs": [],
   "source": [
    "data = pd.read_csv('train.csv')\n",
    "\n",
    "no_teach_column = ['Id', \n",
    "                   'Ecology_1', \n",
    "                   'Social_1', \n",
    "                   'Helthcare_2', \n",
    "                   'Shops_1',\n",
    "                   'Ecology_2', \n",
    "                   'Ecology_3', \n",
    "                   'Shops_2',\n",
    "                   'Price']\n",
    "\n",
    "data_recov = data[no_teach_column]\n",
    "no_teach_column_noobj = ['Ecology_1', \n",
    "                         'Social_1', \n",
    "                         'Helthcare_2', \n",
    "                         'Shops_1',\n",
    "                         'Price']\n",
    "\n",
    "data_recov_noobj = data[no_teach_column_noobj]\n",
    "\n",
    "obj = ['Ecology_2', 'Ecology_3', 'Shops_2']\n",
    "data_obj = data[obj]\n",
    "data_obj = pd.get_dummies(data_obj)\n",
    "data_id = data['Id']\n",
    "data = data.drop(no_teach_column, axis=1)"
   ]
  },
  {
   "cell_type": "code",
   "execution_count": null,
   "id": "d6b7e498",
   "metadata": {},
   "outputs": [],
   "source": [
    "data_recov.info()"
   ]
  },
  {
   "cell_type": "code",
   "execution_count": null,
   "id": "974ae6ff",
   "metadata": {},
   "outputs": [],
   "source": [
    "%%time\n",
    "\n",
    "sns.distplot(data['Healthcare_1']);\n",
    "# sns_plot = sns.pairplot(data_recov_noobj);  #очень долго считает\n",
    "# sns_plot.savefig('./output/pairplot_bad_data.png')\n",
    "\n",
    "# plt.clf()  \n",
    "\n",
    "# Image(filename='./output/pairplot_data_recov_noobj.png')"
   ]
  },
  {
   "cell_type": "code",
   "execution_count": null,
   "id": "9308a1a5",
   "metadata": {},
   "outputs": [],
   "source": [
    "broken_column = 'LifeSquare'\n",
    "\n",
    "data_work = preprocess_data(data).drop(columns='Healthcare_1')\n",
    "\n",
    "test_param = {'n_estimators': [170], \n",
    "              'min_samples_leaf': [12],\n",
    "              'max_depth': [4]}\n",
    "\n",
    "ls_model = gs_gbr(data_work, broken_column, test_param)"
   ]
  },
  {
   "cell_type": "code",
   "execution_count": null,
   "id": "1c882523",
   "metadata": {},
   "outputs": [],
   "source": [
    "data_work.info()"
   ]
  },
  {
   "cell_type": "code",
   "execution_count": null,
   "id": "47e143ea",
   "metadata": {},
   "outputs": [],
   "source": [
    "data_correct = data.dropna(subset=['LifeSquare']).drop(data[(data['LifeSquare'] > data['Square']) |\n",
    "                                                            (data['LifeSquare'] > 100) |\n",
    "                                                            (data['LifeSquare'] < 5)].index)\n",
    "\n",
    "data_predicted = data.drop(data_correct.index).drop(broken_column, axis=1).drop(columns='Healthcare_1')\n",
    "\n",
    "data_predicted[broken_column] = ls_model.predict(data_predicted)\n",
    "\n",
    "data = data_correct.append(data_predicted).sort_index()\n",
    "data.describe()"
   ]
  },
  {
   "cell_type": "code",
   "execution_count": null,
   "id": "77730d21",
   "metadata": {},
   "outputs": [],
   "source": [
    "broken_column = 'Healthcare_1'\n",
    "\n",
    "data_work = preprocess_data(data)\n",
    "\n",
    "test_param = {'n_estimators': [300], \n",
    "              'min_samples_leaf': [9],\n",
    "              'max_depth': [6]}\n",
    "\n",
    "h1_model = gs_gbr(data_work, broken_column, test_param)"
   ]
  },
  {
   "cell_type": "code",
   "execution_count": null,
   "id": "b3cdcb99",
   "metadata": {},
   "outputs": [],
   "source": [
    "data_correct = data.dropna()\n",
    "\n",
    "data_predicted = data.drop(data_correct.index).drop(broken_column, axis=1)\n",
    "\n",
    "data_predicted[broken_column] = h1_model.predict(data_predicted)\n",
    "\n",
    "data = data_correct.append(data_predicted).sort_index()\n",
    "data.describe()"
   ]
  },
  {
   "cell_type": "code",
   "execution_count": null,
   "id": "25176d38",
   "metadata": {},
   "outputs": [],
   "source": [
    "broken_column = 'DistrictId'\n",
    "\n",
    "data_work = preprocess_data(data)\n",
    "\n",
    "test_param = {'n_estimators': [100], \n",
    "              'min_samples_leaf': [13],\n",
    "              'max_depth': [18]}\n",
    "\n",
    "d_model = gs_gbr(data_work, broken_column, test_param)"
   ]
  },
  {
   "cell_type": "code",
   "execution_count": null,
   "id": "1066660d",
   "metadata": {},
   "outputs": [],
   "source": [
    "data['DistrictId'].value_counts()"
   ]
  },
  {
   "cell_type": "markdown",
   "id": "ff95f966",
   "metadata": {},
   "source": [
    "## GradientBoostingClassifier"
   ]
  },
  {
   "cell_type": "code",
   "execution_count": null,
   "id": "a855e7e4",
   "metadata": {},
   "outputs": [],
   "source": [
    "# broken_column = 'DistrictId'\n",
    "\n",
    "# data_work = preprocess_data(data)\n",
    "\n",
    "# test_param = {'n_estimators': [100], \n",
    "#               'min_samples_leaf': [10],\n",
    "#               'max_depth': [20]}\n",
    "\n",
    "# dc_model = gs_gbc(data_work, broken_column, test_param)\n",
    "\n",
    "# считает очень долго\n",
    "# {'max_depth': 20, 'min_samples_leaf': 10, 'n_estimators': 100}\n",
    "# GridSearchCV train sample accuracy: 0.243\n",
    "# train sample accuracy: 0.400\n",
    "# valid sample accuracy: 0.265\n",
    "# all sample R2: -0.030\n",
    "\n",
    "# no words"
   ]
  },
  {
   "cell_type": "markdown",
   "id": "3fce2af9",
   "metadata": {},
   "source": [
    "## Support Vector Machine"
   ]
  },
  {
   "cell_type": "code",
   "execution_count": null,
   "id": "a14a98b1",
   "metadata": {},
   "outputs": [],
   "source": [
    "# broken_column = 'DistrictId'\n",
    "\n",
    "# data_work = preprocess_data(data)\n",
    "\n",
    "# d_svc_model = svc(data_work, broken_column)\n",
    "\n",
    "# C = 0.01\n",
    "# valid sample accuracy: 0.040\n",
    "# train sample accuracy: 0.038\n",
    "# C = 0.1\n",
    "# valid sample accuracy: 0.040\n",
    "# train sample accuracy: 0.038\n",
    "# C = 1.0\n",
    "# valid sample accuracy: 0.084\n",
    "# train sample accuracy: 0.096\n",
    "# C = 10.0\n",
    "# valid sample accuracy: 0.203\n",
    "# train sample accuracy: 0.237\n",
    "# C = 100.0\n",
    "# valid sample accuracy: 0.416\n",
    "# train sample accuracy: 0.490\n",
    "# C = 1000.0\n",
    "# valid sample accuracy: 0.561\n",
    "# train sample accuracy: 0.747\n",
    "# C = 10000.0\n",
    "# valid sample accuracy: 0.615\n",
    "# train sample accuracy: 0.897\n",
    "# C = 100000.0\n",
    "# valid sample accuracy: 0.614\n",
    "# train sample accuracy: 0.960\n",
    "\n",
    "# # GBC works better\n",
    "# # long calculation"
   ]
  },
  {
   "cell_type": "code",
   "execution_count": null,
   "id": "cc217752",
   "metadata": {},
   "outputs": [],
   "source": [
    "data_correct = data.drop(data[(data['DistrictId'] == 0)].index)\n",
    "\n",
    "data_predicted = data.drop(data_correct.index).drop(broken_column, axis=1)\n",
    "\n",
    "data_predicted[broken_column] = d_model.predict(data_predicted)\n",
    "\n",
    "data = data_correct.append(data_predicted).sort_index()\n",
    "data.describe()"
   ]
  },
  {
   "cell_type": "code",
   "execution_count": null,
   "id": "c87cb25c",
   "metadata": {
    "scrolled": true
   },
   "outputs": [],
   "source": [
    "broken_column = 'Rooms'\n",
    "\n",
    "data_work = preprocess_data(data)\n",
    "\n",
    "test_param = {'n_estimators': [100], \n",
    "              'min_samples_leaf': [20],\n",
    "              'max_depth': [20]}\n",
    "\n",
    "r_model = gs_gbc(data_work, broken_column, test_param)"
   ]
  },
  {
   "cell_type": "code",
   "execution_count": null,
   "id": "18abdeef",
   "metadata": {},
   "outputs": [],
   "source": [
    "data_correct = data.drop(data[(data['Rooms'] == 0) | (data['Rooms'] > 5)].index)\n",
    "\n",
    "data_predicted = data.drop(data_correct.index).drop(broken_column, axis=1)\n",
    "\n",
    "data_predicted[broken_column] = r_model.predict(data_predicted)\n",
    "\n",
    "data = data_correct.append(data_predicted).sort_index()\n",
    "data.describe()\n"
   ]
  },
  {
   "cell_type": "code",
   "execution_count": null,
   "id": "50304bc2",
   "metadata": {},
   "outputs": [],
   "source": [
    "broken_column = 'Square'\n",
    "\n",
    "data_work = preprocess_data(data)\n",
    "\n",
    "test_param = {'n_estimators': [120], \n",
    "              'min_samples_leaf': [3],\n",
    "              'max_depth': [4]}\n",
    "\n",
    "sq_model = gs_gbr(data_work, broken_column, test_param)"
   ]
  },
  {
   "cell_type": "code",
   "execution_count": null,
   "id": "e9ca0792",
   "metadata": {},
   "outputs": [],
   "source": [
    "data_correct = data.drop(data[(data['Square'] < 10) | (data['Square'] > 300)].index)\n",
    "\n",
    "data_predicted = data.drop(data_correct.index).drop(broken_column, axis=1)\n",
    "\n",
    "data_predicted[broken_column] = sq_model.predict(data_predicted)\n",
    "\n",
    "data = data_correct.append(data_predicted).sort_index()\n",
    "data.describe()"
   ]
  },
  {
   "cell_type": "code",
   "execution_count": null,
   "id": "92431d07",
   "metadata": {},
   "outputs": [],
   "source": [
    "broken_column = 'KitchenSquare'\n",
    "\n",
    "data_work = preprocess_data(data)\n",
    "\n",
    "test_param = {'n_estimators': [150], \n",
    "              'min_samples_leaf': [13],\n",
    "              'max_depth': [6]}\n",
    "\n",
    "ksr_model = gs_gbr(data_work, broken_column, test_param)\n",
    "\n",
    "# GradientBoostingClassifier\n",
    "# ksc_model = gs_gbc(data_work, broken_column, test_param) \n",
    "# \n",
    "# long calc\n",
    "# {'max_depth': 5, 'min_samples_leaf': 17, 'n_estimators': 150}\n",
    "# GridSearchCV train sample accuracy: 0.585\n",
    "# train sample accuracy: 0.842\n",
    "# valid sample accuracy: 0.589\n",
    "# all sample R2: 0.635"
   ]
  },
  {
   "cell_type": "code",
   "execution_count": null,
   "id": "20cff590",
   "metadata": {},
   "outputs": [],
   "source": [
    "# ks_svc_model = svc(data_work, broken_column)\n",
    "\n",
    "# Result\n",
    "# C = 0.01\n",
    "# valid sample accuracy: 0.200\n",
    "# train sample accuracy: 0.194\n",
    "# C = 0.1\n",
    "# valid sample accuracy: 0.368\n",
    "# train sample accuracy: 0.351\n",
    "# C = 1.0\n",
    "# valid sample accuracy: 0.473\n",
    "# train sample accuracy: 0.464\n",
    "# C = 10.0\n",
    "# valid sample accuracy: 0.504\n",
    "# train sample accuracy: 0.498\n",
    "# C = 100.0\n",
    "# valid sample accuracy: 0.517\n",
    "# train sample accuracy: 0.527\n",
    "# C = 1000.0\n",
    "# valid sample accuracy: 0.543\n",
    "# train sample accuracy: 0.583\n",
    "# C = 10000.0\n",
    "# valid sample accuracy: 0.548\n",
    "# train sample accuracy: 0.639\n",
    "# C = 100000.0\n",
    "# valid sample accuracy: 0.550\n",
    "# train sample accuracy: 0.714\n",
    "\n",
    "# GBR works better"
   ]
  },
  {
   "cell_type": "code",
   "execution_count": null,
   "id": "9dc68fe2",
   "metadata": {},
   "outputs": [],
   "source": [
    "data_correct = data.drop(data[(data['KitchenSquare'] < 3) | \n",
    "                              (data['KitchenSquare'] / data['Square'] > 0.5)].index)\n",
    "\n",
    "data_predicted = data.drop(data_correct.index).drop(broken_column, axis=1)\n",
    "\n",
    "data_predicted[broken_column] = ksr_model.predict(data_predicted)\n",
    "\n",
    "data = data_correct.append(data_predicted).sort_index()\n",
    "data.describe()"
   ]
  },
  {
   "cell_type": "code",
   "execution_count": null,
   "id": "a1b7d288",
   "metadata": {},
   "outputs": [],
   "source": [
    "broken_column = 'HouseFloor'\n",
    "\n",
    "data_work = preprocess_data(data)\n",
    "\n",
    "test_param = {'n_estimators': [200], \n",
    "              'min_samples_leaf': [40],\n",
    "              'max_depth': [10]}\n",
    "\n",
    "hf_model = gs_gbr(data_work, broken_column, test_param)"
   ]
  },
  {
   "cell_type": "code",
   "execution_count": null,
   "id": "7cebdc57",
   "metadata": {},
   "outputs": [],
   "source": [
    "# hf_svc_model = svc(data_work, broken_column)\n",
    "\n",
    "# Result:\n",
    "# C = 0.01\n",
    "# valid sample accuracy: 0.189\n",
    "# train sample accuracy: 0.192\n",
    "# C = 0.1\n",
    "# valid sample accuracy: 0.319\n",
    "# train sample accuracy: 0.335\n",
    "# C = 1.0\n",
    "# valid sample accuracy: 0.370\n",
    "# train sample accuracy: 0.386\n",
    "# C = 10.0\n",
    "# valid sample accuracy: 0.462\n",
    "# train sample accuracy: 0.499\n",
    "# C = 100.0\n",
    "# valid sample accuracy: 0.485\n",
    "# train sample accuracy: 0.519\n",
    "# C = 1000.0\n",
    "# valid sample accuracy: 0.512\n",
    "# train sample accuracy: 0.579\n",
    "# C = 10000.0\n",
    "# valid sample accuracy: 0.520\n",
    "# train sample accuracy: 0.652\n",
    "# C = 100000.0\n",
    "# valid sample accuracy: 0.503\n",
    "# train sample accuracy: 0.728\n",
    "\n",
    "# GBR better"
   ]
  },
  {
   "cell_type": "code",
   "execution_count": null,
   "id": "35b6ec89",
   "metadata": {},
   "outputs": [],
   "source": [
    "data_correct = data.drop(data[(data['HouseFloor'] > 50) |\n",
    "                              (data['HouseFloor'] == 0) |\n",
    "                              (data['HouseFloor'] < data['Floor'])].index)\n",
    "\n",
    "data_predicted = data.drop(data_correct.index).drop(broken_column, axis=1)\n",
    "\n",
    "data_predicted[broken_column] = hf_model.predict(data_predicted)\n",
    "\n",
    "data = data_correct.append(data_predicted).sort_index()\n",
    "data.describe()"
   ]
  },
  {
   "cell_type": "code",
   "execution_count": null,
   "id": "993eb443",
   "metadata": {},
   "outputs": [],
   "source": [
    "data[(data['Floor'] > data['HouseFloor'])].describe()"
   ]
  },
  {
   "cell_type": "code",
   "execution_count": null,
   "id": "77cc589e",
   "metadata": {},
   "outputs": [],
   "source": [
    "broken_column = 'HouseYear'\n",
    "\n",
    "data_work = preprocess_data(data)\n",
    "\n",
    "test_param = {'n_estimators': [150], \n",
    "              'min_samples_leaf': [20],\n",
    "              'max_depth': [9]}\n",
    "\n",
    "hy_model = gs_gbr(data_work, broken_column, test_param)"
   ]
  },
  {
   "cell_type": "code",
   "execution_count": null,
   "id": "aa894d68",
   "metadata": {},
   "outputs": [],
   "source": [
    "data_correct = data.drop(data[(data['HouseYear'] > 2020) |\n",
    "                              (data['HouseYear'] == 1977)].index)\n",
    "\n",
    "data_predicted = data.drop(data_correct.index).drop(broken_column, axis=1)\n",
    "\n",
    "data_predicted[broken_column] = hy_model.predict(data_predicted)\n",
    "\n",
    "data = data_correct.append(data_predicted).sort_index()\n",
    "data.describe()"
   ]
  },
  {
   "cell_type": "code",
   "execution_count": null,
   "id": "c51744fe",
   "metadata": {},
   "outputs": [],
   "source": [
    "data[(data['HouseYear'] > 2020)]"
   ]
  },
  {
   "cell_type": "code",
   "execution_count": null,
   "id": "8986f043",
   "metadata": {},
   "outputs": [],
   "source": [
    "broken_column = 'Social_3'\n",
    "\n",
    "data_work = preprocess_data(data)\n",
    "\n",
    "test_param = {'n_estimators': [200], \n",
    "              'min_samples_leaf': [10],\n",
    "              'max_depth': [10]}\n",
    "\n",
    "s3_model = gs_gbr(data_work, broken_column, test_param)"
   ]
  },
  {
   "cell_type": "code",
   "execution_count": null,
   "id": "35545350",
   "metadata": {},
   "outputs": [],
   "source": [
    "data_correct = data.drop(data[(data['Social_3'] > 140)].index)\n",
    "\n",
    "data_predicted = data.drop(data_correct.index).drop(broken_column, axis=1)\n",
    "\n",
    "data_predicted[broken_column] = s3_model.predict(data_predicted)\n",
    "\n",
    "data = data_correct.append(data_predicted).sort_index()\n",
    "data.describe()"
   ]
  },
  {
   "cell_type": "code",
   "execution_count": null,
   "id": "f1793f68",
   "metadata": {
    "scrolled": true
   },
   "outputs": [],
   "source": [
    "data_v1 = pd.concat([data, data_recov_noobj], axis=1)\n",
    "data_v1.describe()"
   ]
  },
  {
   "cell_type": "code",
   "execution_count": null,
   "id": "b4a452bb",
   "metadata": {},
   "outputs": [],
   "source": [
    "# %%time\n",
    "\n",
    "# sns_plot = sns.pairplot(data);\n",
    "# sns_plot.savefig(\"pairplot_data_r.png\")\n",
    "\n",
    "# plt.clf()  \n",
    "\n",
    "# Image(filename='pairplot_data_r.png')"
   ]
  },
  {
   "cell_type": "markdown",
   "id": "78d69d5b",
   "metadata": {},
   "source": [
    "awesome and beautiful"
   ]
  },
  {
   "cell_type": "code",
   "execution_count": null,
   "id": "68954b77",
   "metadata": {},
   "outputs": [],
   "source": [
    "corr(data_v1)"
   ]
  },
  {
   "cell_type": "code",
   "execution_count": null,
   "id": "137ee6bf",
   "metadata": {},
   "outputs": [],
   "source": [
    "r_scaler = RobustScaler()\n",
    "\n",
    "colnames = data_v1.columns\n",
    "data_v1_scaled = pd.DataFrame(r_scaler.fit_transform(data_v1), columns=colnames)\n",
    "\n",
    "data_v1_scaled.head()"
   ]
  },
  {
   "cell_type": "code",
   "execution_count": null,
   "id": "3b65931b",
   "metadata": {},
   "outputs": [],
   "source": [
    "# data_v2 = data_v1"
   ]
  },
  {
   "cell_type": "code",
   "execution_count": null,
   "id": "e2278972",
   "metadata": {},
   "outputs": [],
   "source": [
    "# data_sq = data_v1_scaled[['Rooms', 'Square', 'LifeSquare']]\n",
    "\n",
    "# data_s12 = data_v1_scaled[['Social_1', 'Social_2']]\n",
    "\n",
    "# pca = PCA(n_components=1, random_state=42)\n",
    "\n",
    "# data_v2['data_sq'] = pca.fit_transform(data_sq)\n",
    "\n",
    "# data_v2['data_s12'] = pca.fit_transform(data_s12)\n",
    "\n",
    "\n",
    "# data_v2 = data_v2.drop(['Rooms', 'Square', 'LifeSquare', 'Social_1', 'Social_2'], axis=1)\n",
    "# data_v2.describe()"
   ]
  },
  {
   "cell_type": "code",
   "execution_count": null,
   "id": "23745a34",
   "metadata": {},
   "outputs": [],
   "source": [
    "# data_v1 = data_v1.drop(['data_sq', 'data_s12'], axis=1)"
   ]
  },
  {
   "cell_type": "code",
   "execution_count": null,
   "id": "d8f3acc3",
   "metadata": {},
   "outputs": [],
   "source": [
    "# corr(data_v2)"
   ]
  },
  {
   "cell_type": "code",
   "execution_count": null,
   "id": "2aa3a073",
   "metadata": {},
   "outputs": [],
   "source": [
    "# data_5c = data_v1_scaled[['Rooms', 'Square', 'LifeSquare', 'Social_1', 'Social_2']]\n",
    "# dim_reducer5c, components_5c = reduce_dims(data_5c, 2, method='tsne')"
   ]
  },
  {
   "cell_type": "code",
   "execution_count": null,
   "id": "ecc02d8f",
   "metadata": {},
   "outputs": [],
   "source": [
    "# data_v3 = pd.concat([data_v1, components_5c], axis=1)\n",
    "# data_v3 = data_v3.drop(['Rooms', 'Square', 'LifeSquare', 'Social_2'], axis=1)\n",
    "# data_v3.describe()"
   ]
  },
  {
   "cell_type": "code",
   "execution_count": null,
   "id": "f6d8d275",
   "metadata": {},
   "outputs": [],
   "source": [
    "# colnames = data_v3.columns\n",
    "# data_v3_scaled = pd.DataFrame(r_scaler.fit_transform(data_v3), columns=colnames)"
   ]
  },
  {
   "cell_type": "code",
   "execution_count": null,
   "id": "9740c90e",
   "metadata": {},
   "outputs": [],
   "source": [
    "# corr(data_v3)"
   ]
  },
  {
   "cell_type": "code",
   "execution_count": null,
   "id": "dc8dbe1b",
   "metadata": {},
   "outputs": [],
   "source": [
    "# target = data_v3['Price']\n",
    "# display_components_in_2D_space(components_5c, target)"
   ]
  },
  {
   "cell_type": "code",
   "execution_count": null,
   "id": "97e4cd18",
   "metadata": {},
   "outputs": [],
   "source": [
    "# data_8c = data_v1_scaled[['Rooms', 'Square', 'LifeSquare', 'Social_1', 'Social_2', 'Healthcare_1', 'Shops_1']]\n",
    "# dim_reducer8c, components_8c = reduce_dims(data_8c, 3, method='tsne')"
   ]
  },
  {
   "cell_type": "code",
   "execution_count": null,
   "id": "256b2dc9",
   "metadata": {},
   "outputs": [],
   "source": [
    "# data_v4 = pd.concat([data, components_8c], axis=1)\n",
    "# data_v4 = data_v4.drop(['Rooms', 'Square', 'LifeSquare', 'Social_2', 'Healthcare_1'], axis=1)\n",
    "# data_v4.describe()"
   ]
  },
  {
   "cell_type": "code",
   "execution_count": null,
   "id": "3fe5b3c7",
   "metadata": {},
   "outputs": [],
   "source": [
    "# corr(data_v4)"
   ]
  },
  {
   "cell_type": "code",
   "execution_count": null,
   "id": "34f8142a",
   "metadata": {},
   "outputs": [],
   "source": [
    "# data_neg_cor_1 = data_v1_scaled[['HouseYear', 'DistrictId']]\n",
    "# dim_reducer_neg_cor_1, components_neg_cor_1 = reduce_dims(data_neg_cor_1, 1, method='tsne')\n",
    "# data_v5 = pd.concat([data_v4, components_neg_cor_1], axis=1)\n",
    "# data_v5 = data_v4.drop(['HouseYear', 'DistrictId'], axis=1)\n",
    "# data_v5.describe()"
   ]
  },
  {
   "cell_type": "code",
   "execution_count": null,
   "id": "88a3d8e0",
   "metadata": {},
   "outputs": [],
   "source": [
    "# corr(data_v5)"
   ]
  },
  {
   "cell_type": "code",
   "execution_count": null,
   "id": "10d36805",
   "metadata": {},
   "outputs": [],
   "source": [
    "# data_neg_cor_2 = data_v3_scaled[['HouseYear', 'DistrictId', 'component_1', 'KitchenSquare']]\n",
    "# dim_reducer_neg_cor_2, components_neg_cor_2 = reduce_dims(data_neg_cor_2, 2, method='tsne')\n",
    "# data_v6 = pd.concat([data_v4, components_neg_cor_2], axis=1)\n",
    "# data_v6 = data_v4.drop(['HouseYear', 'DistrictId', 'component_1', 'KitchenSquare'], axis=1)\n",
    "# data_v6.describe()"
   ]
  },
  {
   "cell_type": "code",
   "execution_count": null,
   "id": "6d4b36ae",
   "metadata": {},
   "outputs": [],
   "source": [
    "# data_v1.columns"
   ]
  },
  {
   "cell_type": "code",
   "execution_count": null,
   "id": "00b25883",
   "metadata": {
    "scrolled": true
   },
   "outputs": [],
   "source": [
    "data_r_s = data_v1['Square'] / data_v1['Rooms']\n",
    "data_l_k = data_v1['LifeSquare'] / data_v1['KitchenSquare']\n",
    "\n",
    "data_v7 = data_v1[['DistrictId', \n",
    "                  'Floor',\n",
    "                  'HouseFloor', \n",
    "                  'HouseYear', \n",
    "                  'Social_2', \n",
    "                  'Social_3', \n",
    "                  'Healthcare_1',\n",
    "                  'Price', \n",
    "                  'Ecology_1', \n",
    "                  'Social_1', \n",
    "                  'Helthcare_2', \n",
    "                  'Shops_1']]\n",
    "data_v7 = pd.concat([data_v7, data_r_s, data_l_k], axis=1)\n",
    "data_v7"
   ]
  },
  {
   "cell_type": "code",
   "execution_count": null,
   "id": "6a1e69e9",
   "metadata": {},
   "outputs": [],
   "source": [
    "data_v8 = data_v1[['DistrictId',\n",
    "                   'Rooms', \n",
    "                   'Square', \n",
    "                   'LifeSquare', \n",
    "                   'KitchenSquare',\n",
    "                   'Floor',\n",
    "                   'HouseFloor', \n",
    "                   'HouseYear', \n",
    "                   'Social_2', \n",
    "                   'Social_3', \n",
    "                   'Healthcare_1',\n",
    "                   'Price', \n",
    "                   'Ecology_1', \n",
    "                   'Social_1', \n",
    "                   'Helthcare_2', \n",
    "                   'Shops_1']]\n",
    "data_v8 = pd.concat([data_v8, data_r_s, data_l_k], axis=1)\n",
    "data_v8"
   ]
  },
  {
   "cell_type": "code",
   "execution_count": null,
   "id": "1708b645",
   "metadata": {},
   "outputs": [],
   "source": [
    "data_v1_o = pd.concat([data_v1, data_obj], axis=1)\n",
    "# data_v2_o = pd.concat([data_v2, data_obj], axis=1)\n",
    "# data_v3_o = pd.concat([data_v3, data_obj], axis=1)\n",
    "# data_v4_o = pd.concat([data_v4, data_obj], axis=1)\n",
    "# data_v5_o = pd.concat([data_v5, data_obj], axis=1)\n",
    "# data_v6_o = pd.concat([data_v6, data_obj], axis=1)\n",
    "data_v7_o = pd.concat([data_v7, data_obj], axis=1)\n",
    "data_v8_o = pd.concat([data_v8, data_obj], axis=1)"
   ]
  },
  {
   "cell_type": "code",
   "execution_count": null,
   "id": "cba5abb8",
   "metadata": {},
   "outputs": [],
   "source": [
    "# broken_column = 'Price'\n",
    "\n",
    "# data_work = data_v1\n",
    "\n",
    "# test_param = {'n_estimators': [400], \n",
    "#               'min_samples_leaf': [20],\n",
    "#               'max_depth': (3, 4)}\n",
    "\n",
    "# d1_model = gs_gbr(data_work, broken_column, test_param)\n",
    "\n",
    "# {'max_depth': 5, 'min_samples_leaf': 10, 'n_estimators': 200}\n",
    "# GridSearchCV train sample R2: 0.726\n",
    "# train sample R2: 0.875\n",
    "# valid sample R2: 0.733\n",
    "# all sample R2: 0.859\n",
    "\n",
    "# v_8_o is better"
   ]
  },
  {
   "cell_type": "code",
   "execution_count": null,
   "id": "16038508",
   "metadata": {},
   "outputs": [],
   "source": [
    "# broken_column = 'Price'\n",
    "\n",
    "# data_work = data_v2\n",
    "\n",
    "# test_param = {'n_estimators': [200, 300], \n",
    "#               'min_samples_leaf': [5, 10],\n",
    "#               'max_depth': (5, 10)}\n",
    "\n",
    "# d2_model = gs_gbr(data_work, broken_column, test_param)\n",
    "\n",
    "# {'max_depth': 5, 'min_samples_leaf': 5, 'n_estimators': 300}\n",
    "# GridSearchCV train sample R2: 0.731\n",
    "# train sample R2: 0.913\n",
    "# valid sample R2: 0.722\n",
    "# all sample R2: 0.888\n",
    "# Пыжня"
   ]
  },
  {
   "cell_type": "code",
   "execution_count": null,
   "id": "8520d003",
   "metadata": {},
   "outputs": [],
   "source": [
    "# broken_column = 'Price'\n",
    "\n",
    "# data_work = data_v3\n",
    "\n",
    "# test_param = {'n_estimators': [200, 300], \n",
    "#               'min_samples_leaf': [5, 10],\n",
    "#               'max_depth': (5, 10)}\n",
    "\n",
    "# d3_model = gs_gbr(data_work, broken_column, test_param)\n",
    "\n",
    "# {'max_depth': 5, 'min_samples_leaf': 5, 'n_estimators': 200}\n",
    "# GridSearchCV train sample R2: 0.726\n",
    "# train sample R2: 0.889\n",
    "# valid sample R2: 0.728\n",
    "# all sample R2: 0.868\n",
    "    \n",
    "# Пыжня"
   ]
  },
  {
   "cell_type": "code",
   "execution_count": null,
   "id": "4641078c",
   "metadata": {},
   "outputs": [],
   "source": [
    "# broken_column = 'Price'\n",
    "\n",
    "# data_work = data_v4\n",
    "\n",
    "# test_param = {'n_estimators': [200, 300], \n",
    "#               'min_samples_leaf': [5, 10],\n",
    "#               'max_depth': (5, 10)}\n",
    "\n",
    "# d4_model = gs_gbr(data_work, broken_column, test_param)\n",
    "\n",
    "# {'max_depth': 5, 'min_samples_leaf': 5, 'n_estimators': 300}\n",
    "# GridSearchCV train sample R2: 0.678\n",
    "# train sample R2: 0.882\n",
    "# valid sample R2: 0.675\n",
    "# all sample R2: 0.864\n",
    "    \n",
    "# Пыжня"
   ]
  },
  {
   "cell_type": "code",
   "execution_count": null,
   "id": "7bf516f5",
   "metadata": {},
   "outputs": [],
   "source": [
    "# broken_column = 'Price'\n",
    "\n",
    "# data_work = data_v5\n",
    "\n",
    "# test_param = {'n_estimators': [200, 300], \n",
    "#               'min_samples_leaf': [10],\n",
    "#               'max_depth': (5, 10)}\n",
    "\n",
    "# d5_model = gs_gbr(data_work, broken_column, test_param)\n",
    "\n",
    "# {'max_depth': 10, 'min_samples_leaf': 10, 'n_estimators': 200}\n",
    "# GridSearchCV train sample R2: 0.639\n",
    "# train sample R2: 0.943\n",
    "# valid sample R2: 0.645\n",
    "# all sample R2: 0.921\n",
    "    \n",
    "# Пыжня"
   ]
  },
  {
   "cell_type": "code",
   "execution_count": null,
   "id": "d2a439d2",
   "metadata": {},
   "outputs": [],
   "source": [
    "# broken_column = 'Price'\n",
    "\n",
    "# data_work = data_v6\n",
    "\n",
    "# test_param = {'n_estimators': [200, 300], \n",
    "#               'min_samples_leaf': [10],\n",
    "#               'max_depth': (5, 10)}\n",
    "\n",
    "# d6_model = gs_gbr(data_work, broken_column, test_param)\n",
    "\n",
    "# {'max_depth': 10, 'min_samples_leaf': 10, 'n_estimators': 200}\n",
    "# GridSearchCV train sample R2: 0.556\n",
    "# train sample R2: 0.904\n",
    "# valid sample R2: 0.576\n",
    "# all sample R2: 0.895\n",
    "    \n",
    "# Пыжня"
   ]
  },
  {
   "cell_type": "code",
   "execution_count": null,
   "id": "adac3737",
   "metadata": {},
   "outputs": [],
   "source": [
    "# broken_column = 'Price'\n",
    "\n",
    "# data_work = data_v7\n",
    "\n",
    "# test_param = {'n_estimators': [200, 300], \n",
    "#               'min_samples_leaf': [10],\n",
    "#               'max_depth': (5, 10)}\n",
    "\n",
    "# d7_model = gs_gbr(data_work, broken_column, test_param)\n",
    "\n",
    "# {'max_depth': 5, 'min_samples_leaf': 10, 'n_estimators': 200}\n",
    "# GridSearchCV train sample R2: 0.610\n",
    "# train sample R2: 0.819\n",
    "# valid sample R2: 0.617\n",
    "# all sample R2: 0.784\n",
    "    \n",
    "# Пыжня"
   ]
  },
  {
   "cell_type": "code",
   "execution_count": null,
   "id": "9e320d97",
   "metadata": {},
   "outputs": [],
   "source": [
    "# broken_column = 'Price'\n",
    "\n",
    "# data_work = data_v8\n",
    "\n",
    "# test_param = {'n_estimators': [200, 300], \n",
    "#               'min_samples_leaf': [10],\n",
    "#               'max_depth': (5, 10)}\n",
    "\n",
    "# d8_model = gs_gbr(data_work, broken_column, test_param)\n",
    "\n",
    "# нет значительной разницы с data_v8"
   ]
  },
  {
   "cell_type": "code",
   "execution_count": null,
   "id": "54b32186",
   "metadata": {},
   "outputs": [],
   "source": [
    "# broken_column = 'Price'\n",
    "\n",
    "# data_work = data_v1_o\n",
    "\n",
    "# test_param = {'n_estimators': [200, 300], \n",
    "#               'min_samples_leaf': [10],\n",
    "#               'max_depth': (5, 10)}\n",
    "\n",
    "# d1o_model = gs_gbr(data_work, broken_column, test_param)\n",
    "\n",
    "# {'max_depth': 5, 'min_samples_leaf': 10, 'n_estimators': 200}\n",
    "# GridSearchCV train sample R2: 0.724\n",
    "# train sample R2: 0.881\n",
    "# valid sample R2: 0.735\n",
    "# all sample R2: 0.863\n",
    "    \n",
    "# Нет значительной разницы с dummies"
   ]
  },
  {
   "cell_type": "code",
   "execution_count": null,
   "id": "90fd48e2",
   "metadata": {},
   "outputs": [],
   "source": [
    "# broken_column = 'Price'\n",
    "\n",
    "# data_work = data_v2_o\n",
    "\n",
    "# test_param = {'n_estimators': [200, 300], \n",
    "#               'min_samples_leaf': [10],\n",
    "#               'max_depth': (5, 10)}\n",
    "\n",
    "# d2o_model = gs_gbr(data_work, broken_column, test_param)\n",
    "\n",
    "# {'max_depth': 5, 'min_samples_leaf': 10, 'n_estimators': 300}\n",
    "# GridSearchCV train sample R2: 0.724\n",
    "# train sample R2: 0.900\n",
    "# valid sample R2: 0.726\n",
    "# all sample R2: 0.878\n",
    "    \n",
    "# Пыжня"
   ]
  },
  {
   "cell_type": "code",
   "execution_count": null,
   "id": "59df6cb0",
   "metadata": {},
   "outputs": [],
   "source": [
    "# broken_column = 'Price'\n",
    "\n",
    "# data_work = data_v3_o\n",
    "\n",
    "# test_param = {'n_estimators': [200, 300], \n",
    "#               'min_samples_leaf': [10],\n",
    "#               'max_depth': (5, 10)}\n",
    "\n",
    "# d3o_model = gs_gbr(data_work, broken_column, test_param)\n",
    "\n",
    "# {'max_depth': 5, 'min_samples_leaf': 10, 'n_estimators': 300}\n",
    "# GridSearchCV train sample R2: 0.724\n",
    "# train sample R2: 0.902\n",
    "# valid sample R2: 0.725\n",
    "# all sample R2: 0.882\n",
    "    \n",
    "# Пыжня"
   ]
  },
  {
   "cell_type": "code",
   "execution_count": null,
   "id": "7083c64c",
   "metadata": {},
   "outputs": [],
   "source": [
    "# broken_column = 'Price'\n",
    "\n",
    "# data_work = data_v4_o\n",
    "\n",
    "# test_param = {'n_estimators': [200, 300], \n",
    "#               'min_samples_leaf': [10],\n",
    "#               'max_depth': (5, 10)}\n",
    "\n",
    "# d4o_model = gs_gbr(data_work, broken_column, test_param)\n",
    "\n",
    "# {'max_depth': 5, 'min_samples_leaf': 10, 'n_estimators': 300}\n",
    "# GridSearchCV train sample R2: 0.678\n",
    "# train sample R2: 0.873\n",
    "# valid sample R2: 0.680\n",
    "# all sample R2: 0.850\n",
    "    \n",
    "# Пыжня"
   ]
  },
  {
   "cell_type": "code",
   "execution_count": null,
   "id": "420a6d1f",
   "metadata": {},
   "outputs": [],
   "source": [
    "# broken_column = 'Price'\n",
    "\n",
    "# data_work = data_v5_o\n",
    "\n",
    "# test_param = {'n_estimators': [200, 300], \n",
    "#               'min_samples_leaf': [10],\n",
    "#               'max_depth': (5, 10)}\n",
    "\n",
    "# d5_model = gs_gbr(data_work, broken_column, test_param)\n",
    "\n",
    "# {'max_depth': 10, 'min_samples_leaf': 10, 'n_estimators': 200}\n",
    "# GridSearchCV train sample R2: 0.640\n",
    "# train sample R2: 0.941\n",
    "# valid sample R2: 0.649\n",
    "# all sample R2: 0.923\n",
    "    \n",
    "# Пыжня"
   ]
  },
  {
   "cell_type": "code",
   "execution_count": null,
   "id": "f3878fba",
   "metadata": {
    "scrolled": true
   },
   "outputs": [],
   "source": [
    "# broken_column = 'Price'\n",
    "\n",
    "# data_work = data_v6_o\n",
    "\n",
    "# test_param = {'n_estimators': [200, 300], \n",
    "#               'min_samples_leaf': [10],\n",
    "#               'max_depth': (5, 10)}\n",
    "\n",
    "# d6o_model = gs_gbr(data_work, broken_column, test_param)\n",
    "\n",
    "# {'max_depth': 10, 'min_samples_leaf': 10, 'n_estimators': 200}\n",
    "# GridSearchCV train sample R2: 0.559\n",
    "# train sample R2: 0.907\n",
    "# valid sample R2: 0.580\n",
    "# all sample R2: 0.896\n",
    "    \n",
    "# Пыжня"
   ]
  },
  {
   "cell_type": "code",
   "execution_count": null,
   "id": "6257aa8d",
   "metadata": {},
   "outputs": [],
   "source": [
    "# broken_column = 'Price'\n",
    "\n",
    "# data_work = data_v7_o\n",
    "\n",
    "# test_param = {'n_estimators': [200, 300], \n",
    "#               'min_samples_leaf': [10],\n",
    "#               'max_depth': (5, 10)}\n",
    "\n",
    "# d7o_model = gs_gbr(data_work, broken_column, test_param)\n",
    "\n",
    "# {'max_depth': 5, 'min_samples_leaf': 10, 'n_estimators': 300}\n",
    "# GridSearchCV train sample R2: 0.611\n",
    "# train sample R2: 0.856\n",
    "# valid sample R2: 0.616\n",
    "# all sample R2: 0.821\n",
    "    \n",
    "# Пыжня"
   ]
  },
  {
   "cell_type": "markdown",
   "id": "89565104",
   "metadata": {},
   "source": [
    "## working model"
   ]
  },
  {
   "cell_type": "code",
   "execution_count": null,
   "id": "4ce23c8b",
   "metadata": {},
   "outputs": [],
   "source": [
    "# broken_column = 'Price'\n",
    "\n",
    "# data_work = data_v8_o\n",
    "\n",
    "# test_param = {'n_estimators': [275, 300, 325], \n",
    "#               'min_samples_leaf': [10],\n",
    "#               'max_depth': (4, 6)}\n",
    "\n",
    "# d8o_model = gs_gbr(data_work, broken_column, test_param)\n",
    "\n",
    "# {'max_depth': 5, 'min_samples_leaf': 10, 'n_estimators': 250}\n",
    "# GridSearchCV train sample R2: 0.724\n",
    "# train sample R2: 0.895\n",
    "# valid sample R2: 0.739\n",
    "# all sample R2: 0.879\n",
    "    \n",
    "# working model, long calculation"
   ]
  },
  {
   "cell_type": "code",
   "execution_count": null,
   "id": "68f6679e",
   "metadata": {},
   "outputs": [],
   "source": [
    "x = data_v8_o.drop(['Price'], axis=1)\n",
    "y = data_v8_o['Price']\n",
    "\n",
    "final_model = GradientBoostingRegressor(max_depth=5, \n",
    "                                        min_samples_leaf=10, \n",
    "                                        n_estimators=250, \n",
    "                                        criterion='mse')\n",
    "\n",
    "final_model.fit(x, y)\n",
    "\n",
    "y_r = final_model.predict(x)\n",
    "\n",
    "evaluate_predict(y, y_r)"
   ]
  },
  {
   "cell_type": "markdown",
   "id": "fc604cbe",
   "metadata": {},
   "source": [
    "### Preprocess data"
   ]
  },
  {
   "cell_type": "code",
   "execution_count": null,
   "id": "40080cbd",
   "metadata": {},
   "outputs": [],
   "source": [
    "data_test = pd.read_csv('test.csv')\n",
    "\n",
    "answer = pd.DataFrame(data_test['Id'])"
   ]
  },
  {
   "cell_type": "code",
   "execution_count": null,
   "id": "75df7955",
   "metadata": {},
   "outputs": [],
   "source": [
    "data_test.head()"
   ]
  },
  {
   "cell_type": "code",
   "execution_count": null,
   "id": "d52bda9d",
   "metadata": {},
   "outputs": [],
   "source": [
    "no_teach_column = ['Id', \n",
    "                   'Ecology_1', \n",
    "                   'Social_1', \n",
    "                   'Helthcare_2', \n",
    "                   'Shops_1',\n",
    "                   'Ecology_2', \n",
    "                   'Ecology_3', \n",
    "                   'Shops_2']\n",
    "\n",
    "data_test_recov = data_test[['Ecology_1', \n",
    "                       'Social_1', \n",
    "                       'Helthcare_2', \n",
    "                       'Shops_1']]"
   ]
  },
  {
   "cell_type": "code",
   "execution_count": null,
   "id": "1b950c43",
   "metadata": {},
   "outputs": [],
   "source": [
    "data_test_obj = data_test[['Ecology_2', 'Ecology_3', 'Shops_2']]\n",
    "data_test_obj = pd.get_dummies(data_test_obj)\n",
    "\n",
    "data_test = data_test.drop(no_teach_column, axis=1)\n",
    "# LifeSquare\n",
    "data_correct = data_test.dropna(subset=['LifeSquare']).drop(data_test[\n",
    "                             (data_test['LifeSquare'] > data_test['Square']) |\n",
    "                             (data_test['LifeSquare'] > 100) |\n",
    "                             (data_test['LifeSquare'] < 5)].index)\n",
    "\n",
    "data_predicted = data_test.drop(data_correct.index).drop(['LifeSquare'], axis=1).drop(columns='Healthcare_1')\n",
    "\n",
    "data_predicted['LifeSquare'] = ls_model.predict(data_predicted)\n",
    "\n",
    "data_test = data_correct.append(data_predicted).sort_index()\n",
    "\n",
    "# Healthcare_1\n",
    "data_correct = data_test.dropna().drop(data_test[(data_test['Healthcare_1'] < 0)].index)\n",
    "\n",
    "data_predicted = data_test.drop(data_correct.index).drop(['Healthcare_1'], axis=1)\n",
    "\n",
    "data_predicted['Healthcare_1'] = h1_model.predict(data_predicted)\n",
    "\n",
    "data_test = data_correct.append(data_predicted).sort_index()\n",
    "\n",
    "# DistrictId\n",
    "data_correct = data_test.drop(data_test[(data_test['DistrictId'] == 0)].index)\n",
    "\n",
    "data_predicted = data_test.drop(data_correct.index).drop(['DistrictId'], axis=1)\n",
    "\n",
    "data_predicted['DistrictId'] = d_model.predict(data_predicted)\n",
    "\n",
    "data_test = data_correct.append(data_predicted).sort_index()\n",
    "\n",
    "# Rooms\n",
    "data_correct = data_test.drop(data_test[(data_test['Rooms'] == 0) | (data_test['Rooms'] > 5)].index)\n",
    "\n",
    "data_predicted = data_test.drop(data_correct.index).drop(['Rooms'], axis=1)\n",
    "\n",
    "data_predicted['Rooms'] = r_model.predict(data_predicted)\n",
    "\n",
    "data_test = data_correct.append(data_predicted).sort_index()\n",
    "\n",
    "# Square\n",
    "data_correct = data_test.drop(data_test[(data_test['Square'] < 10) | (data_test['Square'] > 300)].index)\n",
    "\n",
    "data_predicted = data_test.drop(data_correct.index).drop(['Square'], axis=1)\n",
    "\n",
    "data_predicted['Square'] = sq_model.predict(data_predicted)\n",
    "\n",
    "data_test = data_correct.append(data_predicted).sort_index()\n",
    "\n",
    "# KitchenSquare\n",
    "data_correct = data_test.drop(data_test[(data_test['KitchenSquare'] < 3) | \n",
    "                                        (data_test['KitchenSquare'] / data_test['Square'] > 0.5)].index)\n",
    "\n",
    "data_predicted = data_test.drop(data_correct.index).drop(['KitchenSquare'], axis=1)\n",
    "\n",
    "data_predicted['KitchenSquare'] = ksr_model.predict(data_predicted)\n",
    "\n",
    "data_test = data_correct.append(data_predicted).sort_index()\n",
    "\n",
    "# HouseFloor\n",
    "data_correct = data_test.drop(data_test[(data_test['HouseFloor'] > 50) |\n",
    "                                        (data_test['HouseFloor'] == 0) |\n",
    "                                        (data_test['HouseFloor'] < data_test['Floor'])].index)\n",
    "\n",
    "data_predicted = data_test.drop(data_correct.index).drop(['HouseFloor'], axis=1)\n",
    "\n",
    "data_predicted['HouseFloor'] = hf_model.predict(data_predicted)\n",
    "\n",
    "data_test = data_correct.append(data_predicted).sort_index()\n",
    "\n",
    "# HouseYear\n",
    "data_correct = data_test.drop(data_test[(data_test['HouseYear'] > 2020) |\n",
    "                                        (data_test['HouseYear'] == 1977)].index)\n",
    "\n",
    "data_predicted = data_test.drop(data_correct.index).drop(['HouseYear'], axis=1)\n",
    "\n",
    "data_predicted['HouseYear'] = hy_model.predict(data_predicted)\n",
    "\n",
    "data_test = data_correct.append(data_predicted).sort_index()\n",
    "\n",
    "# Social_3\n",
    "data_correct = data_test.drop(data_test[(data_test['Social_3'] > 140)].index)\n",
    "\n",
    "data_predicted = data_test.drop(data_correct.index).drop(['Social_3'], axis=1)\n",
    "\n",
    "data_predicted['Social_3'] = s3_model.predict(data_predicted)\n",
    "\n",
    "data_test = data_correct.append(data_predicted).sort_index()\n",
    "\n",
    "data_test = pd.concat([data_test, data_test_recov], axis=1)\n",
    "\n",
    "data_test.describe()"
   ]
  },
  {
   "cell_type": "code",
   "execution_count": null,
   "id": "2ae9db1a",
   "metadata": {},
   "outputs": [],
   "source": [
    "data_test[(data_test['Healthcare_1'] < 0)]"
   ]
  },
  {
   "cell_type": "code",
   "execution_count": null,
   "id": "f7dc5d9f",
   "metadata": {
    "scrolled": true
   },
   "outputs": [],
   "source": [
    "data_s_r = data_test['Square'] / data_test['Rooms']\n",
    "data_l_k = data_test['LifeSquare'] / data_test['KitchenSquare']\n",
    "data_test['s_r'] = data_s_r\n",
    "data_test['l_k'] = data_l_k\n",
    "data_test = pd.concat([data_test, data_test_obj], axis=1)\n",
    "data_test.describe()"
   ]
  },
  {
   "cell_type": "code",
   "execution_count": null,
   "id": "761fdb89",
   "metadata": {},
   "outputs": [],
   "source": [
    "y_r = final_model.predict(data_test)\n",
    "\n",
    "answer['Price'] = y_r"
   ]
  },
  {
   "cell_type": "code",
   "execution_count": null,
   "id": "0bc9f05c",
   "metadata": {},
   "outputs": [],
   "source": [
    "answer.to_csv('answer.csv', sep=',', index=False)"
   ]
  },
  {
   "cell_type": "code",
   "execution_count": null,
   "id": "2b49ff03",
   "metadata": {},
   "outputs": [],
   "source": []
  }
 ],
 "metadata": {
  "kernelspec": {
   "display_name": "Python 3",
   "language": "python",
   "name": "python3"
  },
  "language_info": {
   "codemirror_mode": {
    "name": "ipython",
    "version": 3
   },
   "file_extension": ".py",
   "mimetype": "text/x-python",
   "name": "python",
   "nbconvert_exporter": "python",
   "pygments_lexer": "ipython3",
   "version": "3.8.8"
  }
 },
 "nbformat": 4,
 "nbformat_minor": 5
}
